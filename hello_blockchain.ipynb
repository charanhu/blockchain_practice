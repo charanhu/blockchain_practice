{
 "cells": [
  {
   "cell_type": "code",
   "execution_count": 1,
   "metadata": {},
   "outputs": [
    {
     "name": "stdout",
     "output_type": "stream",
     "text": [
      "Timestamp: 2023-06-05 11:46:19.210190\n",
      "Data: Genesis Block\n",
      "Previous Hash: 0\n",
      "Hash: 9fdaf179b68a34ef3f64dbc314238685a39a8b558c87eed93eefecf86a3f1d32\n",
      "\n",
      "Timestamp: 2023-06-05 11:46:19.210190\n",
      "Data: Hello\n",
      "Previous Hash: 9fdaf179b68a34ef3f64dbc314238685a39a8b558c87eed93eefecf86a3f1d32\n",
      "Hash: 0a926211d3c0851b537e5aebc4c2fdd4c3ec139b7e7a81c7594f3023dc379469\n",
      "\n",
      "Timestamp: 2023-06-05 11:46:19.211193\n",
      "Data: World!\n",
      "Previous Hash: 0a926211d3c0851b537e5aebc4c2fdd4c3ec139b7e7a81c7594f3023dc379469\n",
      "Hash: 309f5934ed0d1fc39f9286754a8cf6d50cd7fc25b0c59e0d9002019b1841fc04\n",
      "\n"
     ]
    }
   ],
   "source": [
    "import hashlib\n",
    "import datetime\n",
    "\n",
    "class Block:\n",
    "    def __init__(self, data, previous_hash):\n",
    "        self.timestamp = datetime.datetime.now()\n",
    "        self.data = data\n",
    "        self.previous_hash = previous_hash\n",
    "        self.hash = self.calculate_hash()\n",
    "\n",
    "    def calculate_hash(self):\n",
    "        hash_string = str(self.timestamp) + str(self.data) + str(self.previous_hash)\n",
    "        return hashlib.sha256(hash_string.encode('utf-8')).hexdigest()\n",
    "\n",
    "class Blockchain:\n",
    "    def __init__(self):\n",
    "        self.chain = [self.create_genesis_block()]\n",
    "\n",
    "    def create_genesis_block(self):\n",
    "        return Block(\"Genesis Block\", \"0\")\n",
    "\n",
    "    def add_block(self, data):\n",
    "        previous_hash = self.chain[-1].hash\n",
    "        new_block = Block(data, previous_hash)\n",
    "        self.chain.append(new_block)\n",
    "\n",
    "    def display_chain(self):\n",
    "        for block in self.chain:\n",
    "            print(\"Timestamp:\", block.timestamp)\n",
    "            print(\"Data:\", block.data)\n",
    "            print(\"Previous Hash:\", block.previous_hash)\n",
    "            print(\"Hash:\", block.hash)\n",
    "            print()\n",
    "\n",
    "# Create a blockchain\n",
    "my_blockchain = Blockchain()\n",
    "\n",
    "# Add blocks to the blockchain\n",
    "my_blockchain.add_block(\"Hello\")\n",
    "my_blockchain.add_block(\"World!\")\n",
    "\n",
    "# Display the blockchain\n",
    "my_blockchain.display_chain()\n"
   ]
  },
  {
   "cell_type": "code",
   "execution_count": null,
   "metadata": {},
   "outputs": [],
   "source": []
  }
 ],
 "metadata": {
  "kernelspec": {
   "display_name": "base",
   "language": "python",
   "name": "python3"
  },
  "language_info": {
   "codemirror_mode": {
    "name": "ipython",
    "version": 3
   },
   "file_extension": ".py",
   "mimetype": "text/x-python",
   "name": "python",
   "nbconvert_exporter": "python",
   "pygments_lexer": "ipython3",
   "version": "3.9.12"
  },
  "orig_nbformat": 4
 },
 "nbformat": 4,
 "nbformat_minor": 2
}
